{
 "cells": [
  {
   "cell_type": "markdown",
   "metadata": {},
   "source": [
    "# Ejercicios Modulo 5. Ficheros (Soluciones)\n",
    "\n",
    "Consideraciones a tener en cuenta: \n",
    "\n",
    "* Guardar este documento con el siguiente formato para su entrega: __M5_01_nombre_apellido1_apellido2__\n",
    "* Realizar los ejercicios con las herramientas vistas en las sesiones. \n",
    "* Comentar el código\n",
    "* Utilizar nombres de variables apropiados, si vais a guardar una nota, llamar a esa variable nota, no n o x"
   ]
  },
  {
   "cell_type": "markdown",
   "metadata": {},
   "source": [
    "**1) En este ejercicio deberás crear un programa que abra y lea un fichero de texto, y nos proporcione la siguiente información:**\n",
    "\n",
    "* Nombre del fichero\n",
    "* Si el fichero esta cerrado o no (True o False)\n",
    "* El modo de apertura del fichero\n",
    "\n",
    "El fichero de texto se denominará **pruebas.txt** y tendrá el siguiente contenido en texto plano (créalo previamente):\n",
    "\n",
    "```\n",
    "Hola que tal estas\n",
    "Esto es una prueba\n",
    "Hoy no llueve\n",
    "Se acerca la navidad\n",
    "Hasta luego y muy buenas\n",
    "```\n",
    "\n",
    "Busca en la documentación que métodos nos proporcionan la información requerida. Por último, lista el contenido del fichero.\n",
    "\n",
    "**Aviso importante**: *Si quieres leer un fichero que no se ha escrito directamente con Python, entonces es posible que encuentres errores de codificación al mostrar algunos caracteres. Asegúrate de indicar la codificación del fichero manualmente durante la apertura como argumento en el **open**, por ejemplo con UTF-8:*\n",
    "\n",
    "```python\n",
    "open(..., encoding=\"utf8\")\n",
    "```"
   ]
  },
  {
   "cell_type": "code",
   "execution_count": 1,
   "metadata": {
    "tags": []
   },
   "outputs": [
    {
     "output_type": "stream",
     "name": "stdout",
     "text": "Hola que tal estas\nEsto es una prueba\nHoy no llueve\nSe acerca la navidad\nHasta luego y muy buenas\nC:/Users/cheve/OneDrive/Desktop/master python/programar en python/modulo5/ejercicios/01_Ficheros/pruebas.txt\n"
    }
   ],
   "source": [
    "# Completa el ejercicio aquí\n",
    "# archivo = open('prueba.txt', 'r', encoding=\"utf8\")\n",
    "import os\n",
    "archivo=open('C:/Users/cheve/OneDrive/Desktop/master python/programar en python/modulo5/ejercicios/01_Ficheros/pruebas.txt','r',encoding=\"utf8\")\n",
    "print(archivo.read())\n",
    "print(archivo.name)\n",
    "archivo.close()\n",
    "\n"
   ]
  },
  {
   "cell_type": "markdown",
   "metadata": {},
   "source": [
    "**2) Sobre el fichero anterior, obtén la siguiente información:**\n",
    "\n",
    "* Lectura de una línea del fichero\n",
    "* Lectura del fichero línea a línea"
   ]
  },
  {
   "cell_type": "code",
   "execution_count": 2,
   "metadata": {
    "tags": []
   },
   "outputs": [
    {
     "output_type": "stream",
     "name": "stdout",
     "text": "Hola que tal estas\n\nEsto es una prueba\n\nHoy no llueve\n\nSe acerca la navidad\n\nHasta luego y muy buenas\n"
    }
   ],
   "source": [
    "# Completa el ejercicio aquí\n",
    "with open('C:/Users/cheve/OneDrive/Desktop/master python/programar en python/modulo5/ejercicios/01_Ficheros/pruebas.txt','r',encoding=\"utf8\") as david:\n",
    "  for linea in david:\n",
    "      print(linea)\n",
    "archivo.close()"
   ]
  },
  {
   "cell_type": "markdown",
   "metadata": {},
   "source": [
    "**3) Sobre el fichero anterior, realiza la siguiente operación:**\n",
    "\n",
    "* Abrir el fichero en modo escritura (concatenando el contenido, sin sobrescribirlo) y escribir una nueva línea de texto\n",
    "\n",
    "Comprueba que este funcionando correctamente comprobando el fichero (tendrás que cerrarlo y abrirlo para poder visualizar los cambios)."
   ]
  },
  {
   "cell_type": "code",
   "execution_count": 14,
   "metadata": {
    "tags": []
   },
   "outputs": [
    {
     "output_type": "stream",
     "name": "stdout",
     "text": "añadi una nueva linea \n"
    }
   ],
   "source": [
    "# Completa el ejercicio aquí\n",
    "\n",
    "archivo=open('C:/Users/cheve/OneDrive/Desktop/master python/programar en python/modulo5/ejercicios/01_Ficheros/pruebas.txt','a',encoding=\"utf8\")\n",
    "archivo.write('\\n añadi una nueva linea \\n')\n",
    "archivo.close()\n",
    "archivo=open('C:/Users/cheve/OneDrive/Desktop/master python/programar en python/modulo5/ejercicios/01_Ficheros/pruebas.txt','r',encoding=\"utf8\")\n",
    "lista=archivo.read().split('\\n')\n",
    "print(lista[-2])\n",
    "archivo.close()"
   ]
  },
  {
   "cell_type": "code",
   "execution_count": 4,
   "metadata": {},
   "outputs": [],
   "source": [
    "# Completa el ejercicio aquí"
   ]
  },
  {
   "cell_type": "markdown",
   "metadata": {},
   "source": [
    "**5) En este ejercicio deberás crear un programa que lea los datos de un fichero de texto, que transforme cada fila en un diccionario y lo añada a una lista llamada personas. Luego recorre las personas de la lista y para cada una muestra de forma amigable todos sus campos. Por ejemplo así:**\n",
    "\n",
    "```\n",
    "(id=1) Carlos Pérez => 05/01/1989 \n",
    "```\n",
    "\n",
    "El fichero de texto se denominará **personas.txt** y tendrá el siguiente contenido en texto plano (créalo previamente):\n",
    "\n",
    "```\n",
    "1;Carlos;Pérez;05/01/1989\n",
    "2;Manuel;Heredia;26/12/1973\n",
    "3;Rosa;Campos;12/06/1961\n",
    "4;David;García;25/07/2006\n",
    "```\n",
    "\n",
    "Los campos del diccionario serán por orden: **id**, **nombre**, **apellido** y **nacimiento**.\n",
    "\n",
    "**Aviso importante**: *Si quieres leer un fichero que no se ha escrito directamente con Python, entonces es posible que encuentres errores de codificación al mostrar algunos caracteres. Asegúrate de indicar la codificación del fichero manualmente durante la apertura como argumento en el **open**, por ejemplo con UTF-8:*\n",
    "\n",
    "```python\n",
    "open(..., encoding=\"utf8\")\n",
    "```\n",
    "\n",
    "Pista: Es posible que tengas que recurrir a funciones como replace o split para poder modificar el texto de una línea de texto. Busca documentación sobre ello."
   ]
  },
  {
   "cell_type": "code",
   "execution_count": 163,
   "metadata": {
    "tags": []
   },
   "outputs": [
    {
     "output_type": "stream",
     "name": "stdout",
     "text": "{'id': ['1', '2', '3', '4'], 'nombre': ['Carlos', 'Manuel', 'Rosa', 'David'], 'apellido': ['Pérez', 'Heredia', 'Campos', 'García'], 'nacimiento': ['05/01/1989', '26/12/1973', '12/06/1961', '25/07/2006']}\n(id=1) Carlos Pérez => 05/01/1989\n(id=2) Manuel Heredia => 26/12/1973\n(id=3) Rosa Campos => 12/06/1961\n(id=4) David García => 25/07/2006\n"
    }
   ],
   "source": [
    "with open('C:/Users/cheve/OneDrive/Desktop/master python/programar en python/modulo5/ejercicios/01_Ficheros/pruebas2.txt','r',encoding=\"utf8\") as fichero:\n",
    "    dic = {'id':[],'nombre':[],'apellido':[],'nacimiento':[]}\n",
    "    x=fichero.read().split('\\n')\n",
    "    i=0\n",
    "    while i<len(x):\n",
    "        j=0\n",
    "        for key in dic:\n",
    "            h=x[i].split(';')\n",
    "            dic[key].append(h[j])\n",
    "            j+=1\n",
    "        i+=1\n",
    "    print(dic)\n",
    "    fichero.close()\n",
    "i=0\n",
    "while True:\n",
    "  try:\n",
    "        print('(id='+dic.get('id')[i]+')'+' '+dic.get('nombre')[i]+' '+dic.get('apellido')[i]+' => '     +dic.get('nacimiento')[i])\n",
    "        i+=1\n",
    "  except IndexError:\n",
    "       break\n",
    "\n",
    "    \n"
   ]
  },
  {
   "cell_type": "code",
   "execution_count": null,
   "metadata": {},
   "outputs": [],
   "source": []
  },
  {
   "cell_type": "code",
   "execution_count": null,
   "metadata": {},
   "outputs": [],
   "source": []
  }
 ],
 "metadata": {
  "anaconda-cloud": {},
  "kernelspec": {
   "display_name": "Python 3.8.2 32-bit",
   "language": "python",
   "name": "python_defaultSpec_1601149936603"
  },
  "language_info": {
   "codemirror_mode": {
    "name": "ipython",
    "version": 3
   },
   "file_extension": ".py",
   "mimetype": "text/x-python",
   "name": "python",
   "nbconvert_exporter": "python",
   "pygments_lexer": "ipython3",
   "version": "3.8.2-final"
  }
 },
 "nbformat": 4,
 "nbformat_minor": 1
}