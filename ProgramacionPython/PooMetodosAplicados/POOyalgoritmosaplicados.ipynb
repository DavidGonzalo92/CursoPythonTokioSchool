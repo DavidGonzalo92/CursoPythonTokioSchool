{
 "cells": [
  {
   "cell_type": "markdown",
   "metadata": {},
   "source": [
    "# Ejercicios Modulo 4. POO y algoritmos aplicados (Soluciones)\n",
    "\n",
    "Consideraciones a tener en cuenta: \n",
    "\n",
    "* Guardar este documento con el siguiente formato para su entrega: __M4_03_nombre_apellido1_apellido2__\n",
    "* Realizar los ejercicios con las herramientas vistas en las sesiones. \n",
    "* Comentar el código\n",
    "* Utilizar nombres de variables apropiados, si vais a guardar una nota, llamar a esa variable nota, no n o x"
   ]
  },
  {
   "cell_type": "markdown",
   "metadata": {},
   "source": [
    "# DATOS TEMPORALES"
   ]
  },
  {
   "cell_type": "markdown",
   "metadata": {},
   "source": [
    "**1) Dadas las dos siguientes fechas, que corresponden a las fechas de nacimiento de dos hermanos (en la zona horaria de Europe/Madrid), indica cual es la diferencia entre ellos en días, horas, minutos y segundos**"
   ]
  },
  {
   "cell_type": "code",
   "execution_count": 35,
   "metadata": {
    "tags": []
   },
   "outputs": [
    {
     "output_type": "stream",
     "name": "stdout",
     "text": "Difference:  2440 days, 0:35:00\n"
    }
   ],
   "source": [
    "# Completa el ejercicio aquí\n",
    "from datetime import datetime\n",
    "import pytz\n",
    "\n",
    "madrid=pytz.timezone(\"Europe/madrid\")\n",
    "\n",
    "hijo1 =datetime(1985, 10, 20, 17, 55)\n",
    "hijo2 =datetime(1992, 6, 25, 18, 30)\n",
    "\n",
    "# Completa el ejercicio aquí\n",
    "\n",
    "c = hijo2-hijo1 \n",
    "print('Difference: ', c)"
   ]
  },
  {
   "cell_type": "markdown",
   "metadata": {},
   "source": [
    "**2) Crea una función que se llame formato_fecha() que reciba por parámetro una fecha del tipo datetime y nos devuelva el siguiente formato: \"20 de Abril del 2020\". Crea una tupla para almacenar el listado de meses. Prueba la función enviándole una fecha predefinida por ti y la fecha actual (now)**"
   ]
  },
  {
   "cell_type": "code",
   "execution_count": 14,
   "metadata": {
    "tags": []
   },
   "outputs": [
    {
     "output_type": "stream",
     "name": "stdout",
     "text": "20 de octubre del 1985\n"
    }
   ],
   "source": [
    "# Completa el ejercicio aquí\n",
    "import locale \n",
    "locale.setlocale(locale.LC_ALL,'es-ES')\n",
    "def formato_fecha(fecha):\n",
    "    print(fecha.strftime(\" %d de %B del %Y\"))\n",
    "\n",
    "formato_fecha(datetime(1985, 10, 20, 17, 55))"
   ]
  },
  {
   "cell_type": "markdown",
   "metadata": {},
   "source": [
    "**3) Utilizando strftime y formatea la fecha actual para que salga con el siguiente formato (sin los puntos):**\n",
    "* Día: 20\n",
    "* Mes: 04\n",
    "* Año: 2020\n",
    "* Hora: 16\n",
    "* Minutos: 19\n",
    "* Segundos (y milisegundos): 08.879057"
   ]
  },
  {
   "cell_type": "code",
   "execution_count": 34,
   "metadata": {
    "scrolled": true,
    "tags": []
   },
   "outputs": [
    {
     "output_type": "stream",
     "name": "stdout",
     "text": "dia: 20 \naño : 2020 \nmes: 04 \nhora: 16\nminuto: 19\nsegundos(y milisegundos): 08.879057 \n"
    }
   ],
   "source": [
    "# Completa el ejercicio aquí\n",
    "\n",
    "hijo1 =datetime(2020, 4, 20, 16, 19,8,879057)\n",
    "print(hijo1.strftime(\"dia: %d \\naño : %Y \\nmes: %m \\nhora: %H\\nminuto: %M\\nsegundos(y milisegundos): %S.%f \"))"
   ]
  },
  {
   "cell_type": "code",
   "execution_count": null,
   "metadata": {},
   "outputs": [],
   "source": []
  }
 ],
 "metadata": {
  "anaconda-cloud": {},
  "kernelspec": {
   "display_name": "Python 3.8.2 32-bit",
   "language": "python",
   "name": "python_defaultSpec_1600548084543"
  },
  "language_info": {
   "codemirror_mode": {
    "name": "ipython",
    "version": 3
   },
   "file_extension": ".py",
   "mimetype": "text/x-python",
   "name": "python",
   "nbconvert_exporter": "python",
   "pygments_lexer": "ipython3",
   "version": "3.8.2-final"
  }
 },
 "nbformat": 4,
 "nbformat_minor": 1
}
