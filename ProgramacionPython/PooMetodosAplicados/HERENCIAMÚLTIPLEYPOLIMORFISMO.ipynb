{
 "cells": [
  {
   "cell_type": "markdown",
   "metadata": {},
   "source": [
    "# Ejercicios Modulo 4. POO y algoritmos aplicados (Soluciones)\n",
    "\n",
    "Consideraciones a tener en cuenta: \n",
    "\n",
    "* Guardar este documento con el siguiente formato para su entrega: __M4_01_nombre_apellido1_apellido2__\n",
    "* Realizar los ejercicios con las herramientas vistas en las sesiones. \n",
    "* Comentar el código\n",
    "* Utilizar nombres de variables apropiados, si vais a guardar una nota, llamar a esa variable nota, no n o x"
   ]
  },
  {
   "cell_type": "markdown",
   "metadata": {},
   "source": [
    "# HERENCIA MÚLTIPLE Y POLIMORFISMO"
   ]
  },
  {
   "cell_type": "markdown",
   "metadata": {},
   "source": [
    "**1) Ejercicio de herencia múltiple y polimorfismo:**\n",
    "* Crea la clase Vehiculos con un constructor que incluya marca y modelo\n",
    "* Esta clase Vehiculos también tendrá que incluir un método que se llame repostar() el cual imprima por pantalla \"Este vehiculo tiene que repostar gasolina\"\n",
    "* Crea la clase VElectricos con un constructor que incluya marca, modelo y autonomia\n",
    "* Esta clase VElectricos también tendrá que incluir un método que se llame repostar() el cual imprima por pantalla \"Este vehiculo tiene que repostar electricidad\"\n",
    "* Crea la clase BicicletaElectrica que herede de Vehiculos y de VElectricos, pero dando prioridad a VElectricos (ya que es un vehículo más electrico que normal)\n",
    "* Crea la clase Quad que herede de Vehiculos y de VElectricos, pero dando prioridad a Vehiculos (ya que sólo usa la electricidad de modo puntual)\n",
    "* Crear un objeto de BicicletaElectrica y otro de Quad\n",
    "* Emplear las técnicas de polimorfismo aprendidas para conseguir que al peguntarle a los objetos que acabamos de crear por su repostaje, ambos nos respondan adecuadamente\n",
    "\n"
   ]
  },
  {
   "cell_type": "code",
   "execution_count": null,
   "metadata": {
    "tags": []
   },
   "outputs": [],
   "source": [
    "# Completa el ejercicio aquí\n",
    "class vehiculo:\n",
    "\n",
    "    def __init__(self,marca,modelo):\n",
    "        self.marca=marca\n",
    "        self.modelo=modelo\n",
    "\n",
    "    def repostar(self):\n",
    "        print('este vehiculo tiene que repostar gasolina')\n",
    "\n",
    "\n",
    "class VElectricos:\n",
    "\n",
    "    def __init__(self,marca,modelo,autonomia):\n",
    "        self.marca=marca\n",
    "        self.modelo=modelo\n",
    "        self.autonomia=autonomia\n",
    "\n",
    "    def repostar(self):\n",
    "        print('este vehiculo tiene que repostar electricidad')\n",
    "\n",
    "\n",
    "class Bicicletaelectrica(VElectricos,vehiculo):\n",
    "    '''clase que hereda de VElectricos y vehiculo'''\n",
    "    pass\n",
    "\n",
    "class quad(vehiculo,VElectricos):\n",
    "    '''clase que hereda de vehiculo y VElectricos'''\n",
    "    pass\n",
    "quad=quad('toyota','c3')\n",
    "print(quad.repostar())\n",
    "Bicicletaelectrica=Bicicletaelectrica('toyota','c3','electrica')\n",
    "print(Bicicletaelectrica.repostar())"
   ]
  },
  {
   "cell_type": "markdown",
   "metadata": {},
   "source": [
    "**2) Ejercicio de herencia**\n",
    "* Crea la superclase Personal_Universitario con un único atributo que sea un diccionario que incluya: \"id\", \"nombre\" y \"email\"\n",
    "* Crear la clases Oficina, Profesor y Alumno. Todas ellas heredaran de Personal_Universitario y heredaran sus datos\n",
    "* En el caso de Oficina, debe añadir a su diccionario de datos el dato \"Puesto\"\n",
    "* En el caso de Profesor, debe añadir a su diccionario de datos el dato \"Especialización\"\n",
    "* En el caso de Alumno, debe añadir a su diccionario de datos el dato \"CreditosAprobados\" (integer)\n",
    "* Crear métodos que sirvan para mostrar la información de cada clase\n",
    "* Crear objetos de todas las clases\n",
    "* Mostrar la información de esos objetos y comprobar que sale lo que tiene que salir"
   ]
  },
  {
   "cell_type": "code",
   "execution_count": 27,
   "metadata": {
    "tags": []
   },
   "outputs": [],
   "source": [
    "# Completa el ejercicio aquí\n",
    "class Personal_Universitario():\n",
    "    def __init__(self):\n",
    "        self.diccionario = {} #diccionario vacio\n",
    "    def add(self):  \n",
    "        self.diccionario[\"nombre\"] = input(\"Ingresar nombre: \")    \n",
    "        self.diccionario[\"id\"] = input(\"Ingrese id: \")\n",
    "        self.diccionario[\"email\"] = input(\"Ingrese email: \")\n",
    "        \n",
    "       \n",
    "            \n",
    "\n",
    "    def mostrar(self):\n",
    "        for key, valor in self.diccionario.items(): \n",
    "            print(\"{}:{}\".format(key,valor))\n",
    "           \n",
    "\n",
    "class oficina(Personal_Universitario):\n",
    "      def __init__(self):\n",
    "          super().__init__()\n",
    "          super().add()\n",
    "          self.diccionario[\"puesto\"]=input(\"Ingrese puesto\")\n",
    "     \n",
    "class profesor(Personal_Universitario):\n",
    "      def __init__(self):\n",
    "          super().__init__()\n",
    "          super().add()\n",
    "          self.diccionario[\"Especialización\"]=input(\"Ingrese Especialización\")\n",
    "\n",
    "class estudiante(Personal_Universitario):\n",
    "      def __init__(self):\n",
    "          super().__init__()\n",
    "          super().add()\n",
    "          self.diccionario[\"creditos\"]=input(\"Ingrese creditos\")\n",
    "\n",
    "obj2=oficina()\n"
   ]
  },
  {
   "cell_type": "markdown",
   "metadata": {},
   "source": [
    "**3) Escoge la temática que prefieras y define una estructura de clases y subclases donde practiques la herencia en al menos dos niveles (herencia multi nivel). Crea una estructura de mínimo 5 clases, con sus respectivos constructores y métodos. Crea algunos objetos y comprueba que la herencia este funcionando. \n",
    "Si puedes, incluye alguna técnica de polimorfismo.**"
   ]
  },
  {
   "cell_type": "code",
   "execution_count": null,
   "metadata": {},
   "outputs": [],
   "source": [
    "class vehiculo:\n",
    "\n",
    "    def __init__(self,marca,modelo):\n",
    "        self.marca=marca\n",
    "        self.modelo=modelo\n",
    "\n",
    "    def repostar(self):\n",
    "        print('este vehiculo tiene que repostar gasolina')\n",
    "\n",
    "\n",
    "class VElectricos:\n",
    "\n",
    "    def __init__(self,marca,modelo,autonomia):\n",
    "        self.marca=marca\n",
    "        self.modelo=modelo\n",
    "        self.autonomia=autonomia\n",
    "\n",
    "    def repostar(self):\n",
    "        print('este vehiculo tiene que repostar electricidad')\n",
    "        \n",
    "class coche(vehiculo,VElectricos):\n",
    "    '''clase que hereda de vehiculo y VElectricos'''\n",
    "    pass\n",
    "\n",
    "class Bicicletaelectrica(VElectricos,vehiculo):\n",
    "    '''clase que hereda de VElectricos y vehiculo'''\n",
    "    pass\n",
    "\n",
    "class quad(vehiculo,VElectricos):\n",
    "    '''clase que hereda de vehiculo y VElectricos'''\n",
    "    pass\n",
    "quad=quad('toyota','c3')\n",
    "print(quad.repostar())\n",
    "Bicicletaelectrica=Bicicletaelectrica('toyota','c3','electrica')\n",
    "print(Bicicletaelectrica.repostar())"
   ]
  }
 ],
 "metadata": {
  "anaconda-cloud": {},
  "kernelspec": {
   "display_name": "Python 3",
   "language": "python",
   "name": "python3"
  },
  "language_info": {
   "codemirror_mode": {
    "name": "ipython",
    "version": 3
   },
   "file_extension": ".py",
   "mimetype": "text/x-python",
   "name": "python",
   "nbconvert_exporter": "python",
   "pygments_lexer": "ipython3",
   "version": "3.8.2-final"
  }
 },
 "nbformat": 4,
 "nbformat_minor": 1
}
