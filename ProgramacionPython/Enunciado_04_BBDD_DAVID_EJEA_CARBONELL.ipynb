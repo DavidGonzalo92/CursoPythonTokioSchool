{
 "cells": [
  {
   "cell_type": "markdown",
   "metadata": {},
   "source": [
    "# Bases de datos con SQLite (Enunciados)"
   ]
  },
  {
   "cell_type": "markdown",
   "metadata": {},
   "source": [
    "**1) Practiquemos un poco con SQLite:**\n",
    "\n",
    "* Crea una base de datos que se llame biblioteca\n",
    "* Crea las siguiente tablas (deberás poner los tipos de los atributos con lógica, investiga cuales hay en SQLite para poder hacerlo):\n",
    "    * autor(dni, nombre, apellidos, estarVivo)\n",
    "    * libro(isbn, titulo, editorial, año_escrito)\n",
    "    * usuario(dni, nombre, apellidos, numPrestamos)\n",
    "* Inserta al menos 3 registros en cada una de las tablas\n",
    "    * En autor, algunos vivos y otros muertos\n",
    "    * En libro, algunos con año de escritura anerior a 1900 y otros después\n",
    "    * En usuario, algunos con más de 10 prestamos y otros con menos\n",
    "* Comprueba que todo este correcto con DB Browser (SQLite)\n",
    "* Realiza las siguientes consultas:\n",
    "    * Lista a todos los autores\n",
    "    * Lista todos los libros\n",
    "    * Lista todos los usuarios\n",
    "    * Lista todos los autores que esten vivos (CLAUSULA WHERE)\n",
    "    * Lista todos los libros que hayan sido escritos posteriormente a 1900\n",
    "    * Lista todos los usuarios que se hayan llevado más de 10 libros y que se llamen Paco\n"
   ]
  },
  {
   "cell_type": "code",
   "execution_count": 7,
   "metadata": {
    "tags": []
   },
   "outputs": [
    {
     "output_type": "stream",
     "name": "stdout",
     "text": [
      "('7312', 'Mario', 'Ejea', 1)\n('7313', 'Mercedes', 'Mercedes', 0)\n('7314', 'Juan', 'Juan', 0)\n('7312', 'patito', 'elmundo', 1950)\n('7313', 'patite', 'elmundo', 1850)\n('7314', 'patitu', 'elmundo', 1870)\n('7312xd', 'Mario', 'Ejea', 10)\n('7313xd', 'Mercedes', 'Mercedes', 10)\n('7314xd', 'paco', 'Juan', 300)\n('7312', 'Mario', 'Ejea', 1)\n('7312', 'patito', 'elmundo', 1950)\n('7314xd', 'paco', 'Juan', 300)\n"
     ]
    }
   ],
   "source": [
    "# Completa el ejercicio aquí\n",
    "import sqlite3\n",
    "\n",
    "conexion = sqlite3.connect(\"ejemplo.db\")\n",
    "\n",
    "# Creamos el cursor\n",
    "cursor = conexion.cursor()\n",
    "cursor.execute(\"drop table autor\")\n",
    "cursor.execute(\"drop table libro\")\n",
    "cursor.execute(\"drop table usuario\")\n",
    "# Ahora crearemos una tabla de usuarios para almacenar nombres, edades y emails\n",
    "cursor.execute(\"CREATE TABLE autor (dni VARCHAR(100), nombre VARCHAR(100), apellidos VARCHAR(100),estarVivo INT     NOT NULL)\")\n",
    "cursor.execute(\"CREATE TABLE libro (isbn VARCHAR(100), titulo VARCHAR(100), editorial VARCHAR(100),año_escrito INT     NOT NULL)\")\n",
    "cursor.execute(\"CREATE TABLE usuario (dni VARCHAR(100), nombre VARCHAR(100), apellidos VARCHAR(100),numPrestamos INT     NOT NULL)\")\n",
    "autor = [('7312','Mario', 'Ejea',1),\n",
    "            ('7313','Mercedes', 'Mercedes',0),\n",
    "            ('7314','Juan','Juan',0),\n",
    "            ]\n",
    "libro = [('7312','patito', 'elmundo',1950),\n",
    "            ('7313','patite', 'elmundo',1850),\n",
    "            ('7314','patitu','elmundo',1870),\n",
    "            ]\n",
    "usuario = [('7312xd','Mario', 'Ejea', 10),\n",
    "            ('7313xd','Mercedes', 'Mercedes',10),\n",
    "            ('7314xd','paco','Juan',300),\n",
    "            ]\n",
    "# Ahora utilizamos el método executemany() para insertar varios\n",
    "cursor.executemany(\"INSERT INTO autor VALUES (?,?,?,?)\",autor)\n",
    "cursor.executemany(\"INSERT INTO libro VALUES (?,?,?,?)\",libro)\n",
    "cursor.executemany(\"INSERT INTO usuario VALUES (?,?,?,?)\",usuario)\n",
    "\n",
    "for row in cursor.execute(\"SELECT * FROM autor\"):\n",
    " print(row)\n",
    "for row in cursor.execute(\"SELECT * FROM libro\"):\n",
    " print(row)\n",
    "for row in cursor.execute(\"SELECT * FROM usuario\"):\n",
    " print(row)\n",
    "\n",
    "for row in cursor.execute(\"SELECT * FROM autor where estarVivo in (1)\"):\n",
    "    print(row)\n",
    "for row in cursor.execute(\"SELECT * FROM libro where año_escrito>1900\"):\n",
    "    print(row)\n",
    "for row in cursor.execute(\"SELECT * FROM usuario where nombre='paco'and numPrestamos>10 \"):\n",
    "    print(row)\n",
    "# Guardamos los cambios haciendo un commit\n",
    "conexion.commit()\n",
    "\n",
    "conexion.close()\n"
   ]
  },
  {
   "cell_type": "code",
   "execution_count": null,
   "metadata": {},
   "outputs": [],
   "source": []
  }
 ],
 "metadata": {
  "anaconda-cloud": {},
  "kernelspec": {
   "name": "Python 3.8.2 32-bit",
   "display_name": "Python 3.8.2 32-bit",
   "metadata": {
    "interpreter": {
     "hash": "e985fd782bd4ab5d3f9f3c5409ed8b498e6687700f5c0a9350d86d42b374dcf8"
    }
   }
  },
  "language_info": {
   "codemirror_mode": {
    "name": "ipython",
    "version": 3
   },
   "file_extension": ".py",
   "mimetype": "text/x-python",
   "name": "python",
   "nbconvert_exporter": "python",
   "pygments_lexer": "ipython3",
   "version": "3.8.2-final"
  }
 },
 "nbformat": 4,
 "nbformat_minor": 1
}