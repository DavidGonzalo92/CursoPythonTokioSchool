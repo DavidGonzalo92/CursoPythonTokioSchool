{
 "cells": [
  {
   "cell_type": "markdown",
   "metadata": {},
   "source": [
    "# Ejercicios Modulo 2. Librerías Especializadas (Soluciones)\n",
    "\n",
    "Consideraciones a tener en cuenta: \n",
    "\n",
    "* Guardar este documento con el siguiente formato para su entrega: __M2U4_01_nombre_apellido1_apellido2__\n",
    "* Realizar los ejercicios con las herramientas vistas en las sesiones. \n",
    "* Comentar el código\n",
    "* Utilizar nombres de variables apropiados, si vais a guardar una nota, llamar a esa variable nota, no n o x"
   ]
  },
  {
   "cell_type": "code",
   "execution_count": 2,
   "metadata": {},
   "outputs": [],
   "source": [
    "import pandas as pd"
   ]
  },
  {
   "source": [
    "## Ejercicio sobre Pandas\n",
    "\n",
    "* Carga los datos de __articulos_leidos.csv__ con Pandas\n",
    "* Al cargar los datos, los nombres de las columnas deben ser: __'my_datetime', 'event', 'country', 'user_id', 'source', 'topic'__ (no vale cambiarlo en el CSV)\n",
    "* Mostrar los primeros 10 registros\n",
    "* Mostrar los últimos 10 registros\n",
    "* Mostrar 5 registros aleatorios a modo de muestra\n",
    "* Mostrar únicamente dos columnas del dataframe (en este orden): __country__ y __user_id__\n",
    "* Mostrar los datos del dataframe cuyo __source = SEO__\n",
    "* Mostrar los 5 primeros registros (únicamente con las columnas user_id, topic y country) que coincidan con que __country = country_2__\n",
    "* Agrupar por source y realizar un conteo de elementos\n",
    "* Agrupar por source, filtrar por la columna user_id para que sea la única que aparezca y realizar un conteo de elementos\n",
    "* Mostrar los datos del dataframe que coincidan con que __country = country_2__. A este resultado, realizar una __agrupación por source y topic__ (por ambos, y en ese orden) y finalmente un conteo del resultado. A continuación se muestra el resultado que debe aparecer:\n",
    "<img src=\"./img1.png\"/>\n",
    "* Igual que el anterior pero cambiando el orden de las columnas por las que agrupamos, es decir, en este caso, __agrupar por topic y source__. A continuación se muestra el resultado que debe aparecer:\n",
    "<img src=\"./img2.png\"/>\n",
    "* Cargar el csv __articulos_comprados.csv__ con los nombres de columna __'my_date_time', 'event', 'user_id', 'amount'__\n",
    "* __Fusiona los dos dataframes__ en un dataframe final que se llame __fusion__. Esta fusión se debe realizar adecuadamente para que aparezcan en la fusión los registros que aparecen en articulos_leidos.csv pero que no tienen correspondencia en articulos_comprados.csv. Y no deben aparecer los registros que si aparecen en articulos_comprados.csv pero no tienen correspondencia en articulos_leidos.csv\n",
    "* Cambiar los __NaN por 0__\n",
    "* __Agrupar por country__ y realizar el sumatorio\n",
    "* Eliminar la columna user_id para quedarnos únicamente con __amount__\n",
    "* __Ordenar__ los valores de mayor a menor\n",
    "* Mostrar los __3__ primeros registros"
   ],
   "cell_type": "code",
   "metadata": {},
   "execution_count": 32,
   "outputs": [
    {
     "output_type": "error",
     "ename": "SyntaxError",
     "evalue": "invalid syntax (<ipython-input-32-557a1387461a>, line 3)",
     "traceback": [
      "\u001b[1;36m  File \u001b[1;32m\"<ipython-input-32-557a1387461a>\"\u001b[1;36m, line \u001b[1;32m3\u001b[0m\n\u001b[1;33m    * Carga los datos de __articulos_leidos.csv__ con Pandas\u001b[0m\n\u001b[1;37m            ^\u001b[0m\n\u001b[1;31mSyntaxError\u001b[0m\u001b[1;31m:\u001b[0m invalid syntax\n"
     ]
    }
   ]
  },
  {
   "cell_type": "code",
   "execution_count": 42,
   "metadata": {
    "ExecuteTime": {
     "end_time": "2020-09-25T11:15:00.759719Z",
     "start_time": "2020-09-25T11:15:00.756791Z"
    }
   },
   "outputs": [
    {
     "output_type": "execute_result",
     "data": {
      "text/plain": [
       "   2018-01-01 00:01:01  read  country_7  2458151261      SEO  North America\n",
       "0  2018-01-01 00:03:20  read  country_7  2458151262      SEO  South America\n",
       "1  2018-01-01 00:04:01  read  country_7  2458151263  AdWords         Africa\n",
       "2  2018-01-01 00:04:02  read  country_7  2458151264  AdWords         Europe"
      ],
      "text/html": "<div>\n<style scoped>\n    .dataframe tbody tr th:only-of-type {\n        vertical-align: middle;\n    }\n\n    .dataframe tbody tr th {\n        vertical-align: top;\n    }\n\n    .dataframe thead th {\n        text-align: right;\n    }\n</style>\n<table border=\"1\" class=\"dataframe\">\n  <thead>\n    <tr style=\"text-align: right;\">\n      <th></th>\n      <th>2018-01-01 00:01:01</th>\n      <th>read</th>\n      <th>country_7</th>\n      <th>2458151261</th>\n      <th>SEO</th>\n      <th>North America</th>\n    </tr>\n  </thead>\n  <tbody>\n    <tr>\n      <th>0</th>\n      <td>2018-01-01 00:03:20</td>\n      <td>read</td>\n      <td>country_7</td>\n      <td>2458151262</td>\n      <td>SEO</td>\n      <td>South America</td>\n    </tr>\n    <tr>\n      <th>1</th>\n      <td>2018-01-01 00:04:01</td>\n      <td>read</td>\n      <td>country_7</td>\n      <td>2458151263</td>\n      <td>AdWords</td>\n      <td>Africa</td>\n    </tr>\n    <tr>\n      <th>2</th>\n      <td>2018-01-01 00:04:02</td>\n      <td>read</td>\n      <td>country_7</td>\n      <td>2458151264</td>\n      <td>AdWords</td>\n      <td>Europe</td>\n    </tr>\n  </tbody>\n</table>\n</div>"
     },
     "metadata": {},
     "execution_count": 42
    }
   ],
   "source": [
    "# Carga los datos de __articulos_leidos.csv__ con Pandas\n",
    "\n",
    "articlei=pd.read_csv(\"articulos_leidos.csv\",sep=';')\n",
    "articlei.head(3)\n"
   ]
  },
  {
   "cell_type": "code",
   "execution_count": 43,
   "metadata": {},
   "outputs": [
    {
     "output_type": "execute_result",
     "data": {
      "text/plain": [
       "           my_datetime event    country     user_id   source          topic\n",
       "0  2018-01-01 00:01:01  read  country_7  2458151261      SEO  North America\n",
       "1  2018-01-01 00:03:20  read  country_7  2458151262      SEO  South America\n",
       "2  2018-01-01 00:04:01  read  country_7  2458151263  AdWords         Africa"
      ],
      "text/html": "<div>\n<style scoped>\n    .dataframe tbody tr th:only-of-type {\n        vertical-align: middle;\n    }\n\n    .dataframe tbody tr th {\n        vertical-align: top;\n    }\n\n    .dataframe thead th {\n        text-align: right;\n    }\n</style>\n<table border=\"1\" class=\"dataframe\">\n  <thead>\n    <tr style=\"text-align: right;\">\n      <th></th>\n      <th>my_datetime</th>\n      <th>event</th>\n      <th>country</th>\n      <th>user_id</th>\n      <th>source</th>\n      <th>topic</th>\n    </tr>\n  </thead>\n  <tbody>\n    <tr>\n      <th>0</th>\n      <td>2018-01-01 00:01:01</td>\n      <td>read</td>\n      <td>country_7</td>\n      <td>2458151261</td>\n      <td>SEO</td>\n      <td>North America</td>\n    </tr>\n    <tr>\n      <th>1</th>\n      <td>2018-01-01 00:03:20</td>\n      <td>read</td>\n      <td>country_7</td>\n      <td>2458151262</td>\n      <td>SEO</td>\n      <td>South America</td>\n    </tr>\n    <tr>\n      <th>2</th>\n      <td>2018-01-01 00:04:01</td>\n      <td>read</td>\n      <td>country_7</td>\n      <td>2458151263</td>\n      <td>AdWords</td>\n      <td>Africa</td>\n    </tr>\n  </tbody>\n</table>\n</div>"
     },
     "metadata": {},
     "execution_count": 43
    }
   ],
   "source": [
    "#Al cargar los datos, los nombres de las columnas deben ser: #__'my_datetime', 'event', 'country', 'user_id', 'source', 'topic'__ \n",
    "\n",
    "header_list = [\"my_datetime\", \"event\",\"country\",\"user_id\",\"source\",\"topic\"]\n",
    "articlei=pd.read_csv(\"articulos_leidos.csv\",names=header_list,sep=';')\n",
    "articlei.head(3)\n",
    "\n"
   ]
  },
  {
   "cell_type": "code",
   "execution_count": 44,
   "metadata": {},
   "outputs": [
    {
     "output_type": "execute_result",
     "data": {
      "text/plain": [
       "           my_datetime event    country     user_id   source          topic\n",
       "0  2018-01-01 00:01:01  read  country_7  2458151261      SEO  North America\n",
       "1  2018-01-01 00:03:20  read  country_7  2458151262      SEO  South America\n",
       "2  2018-01-01 00:04:01  read  country_7  2458151263  AdWords         Africa\n",
       "3  2018-01-01 00:04:02  read  country_7  2458151264  AdWords         Europe\n",
       "4  2018-01-01 00:05:03  read  country_8  2458151265   Reddit  North America\n",
       "5  2018-01-01 00:05:42  read  country_6  2458151266   Reddit  North America\n",
       "6  2018-01-01 00:06:06  read  country_2  2458151267   Reddit         Europe\n",
       "7  2018-01-01 00:06:15  read  country_6  2458151268  AdWords         Europe\n",
       "8  2018-01-01 00:07:21  read  country_7  2458151269  AdWords  North America\n",
       "9  2018-01-01 00:07:29  read  country_5  2458151270   Reddit  North America"
      ],
      "text/html": "<div>\n<style scoped>\n    .dataframe tbody tr th:only-of-type {\n        vertical-align: middle;\n    }\n\n    .dataframe tbody tr th {\n        vertical-align: top;\n    }\n\n    .dataframe thead th {\n        text-align: right;\n    }\n</style>\n<table border=\"1\" class=\"dataframe\">\n  <thead>\n    <tr style=\"text-align: right;\">\n      <th></th>\n      <th>my_datetime</th>\n      <th>event</th>\n      <th>country</th>\n      <th>user_id</th>\n      <th>source</th>\n      <th>topic</th>\n    </tr>\n  </thead>\n  <tbody>\n    <tr>\n      <th>0</th>\n      <td>2018-01-01 00:01:01</td>\n      <td>read</td>\n      <td>country_7</td>\n      <td>2458151261</td>\n      <td>SEO</td>\n      <td>North America</td>\n    </tr>\n    <tr>\n      <th>1</th>\n      <td>2018-01-01 00:03:20</td>\n      <td>read</td>\n      <td>country_7</td>\n      <td>2458151262</td>\n      <td>SEO</td>\n      <td>South America</td>\n    </tr>\n    <tr>\n      <th>2</th>\n      <td>2018-01-01 00:04:01</td>\n      <td>read</td>\n      <td>country_7</td>\n      <td>2458151263</td>\n      <td>AdWords</td>\n      <td>Africa</td>\n    </tr>\n    <tr>\n      <th>3</th>\n      <td>2018-01-01 00:04:02</td>\n      <td>read</td>\n      <td>country_7</td>\n      <td>2458151264</td>\n      <td>AdWords</td>\n      <td>Europe</td>\n    </tr>\n    <tr>\n      <th>4</th>\n      <td>2018-01-01 00:05:03</td>\n      <td>read</td>\n      <td>country_8</td>\n      <td>2458151265</td>\n      <td>Reddit</td>\n      <td>North America</td>\n    </tr>\n    <tr>\n      <th>5</th>\n      <td>2018-01-01 00:05:42</td>\n      <td>read</td>\n      <td>country_6</td>\n      <td>2458151266</td>\n      <td>Reddit</td>\n      <td>North America</td>\n    </tr>\n    <tr>\n      <th>6</th>\n      <td>2018-01-01 00:06:06</td>\n      <td>read</td>\n      <td>country_2</td>\n      <td>2458151267</td>\n      <td>Reddit</td>\n      <td>Europe</td>\n    </tr>\n    <tr>\n      <th>7</th>\n      <td>2018-01-01 00:06:15</td>\n      <td>read</td>\n      <td>country_6</td>\n      <td>2458151268</td>\n      <td>AdWords</td>\n      <td>Europe</td>\n    </tr>\n    <tr>\n      <th>8</th>\n      <td>2018-01-01 00:07:21</td>\n      <td>read</td>\n      <td>country_7</td>\n      <td>2458151269</td>\n      <td>AdWords</td>\n      <td>North America</td>\n    </tr>\n    <tr>\n      <th>9</th>\n      <td>2018-01-01 00:07:29</td>\n      <td>read</td>\n      <td>country_5</td>\n      <td>2458151270</td>\n      <td>Reddit</td>\n      <td>North America</td>\n    </tr>\n  </tbody>\n</table>\n</div>"
     },
     "metadata": {},
     "execution_count": 44
    }
   ],
   "source": [
    "#Mostrar los primeros 10 registros\n",
    "articlei.head(10)"
   ]
  },
  {
   "cell_type": "code",
   "execution_count": 45,
   "metadata": {},
   "outputs": [
    {
     "output_type": "execute_result",
     "data": {
      "text/plain": [
       "              my_datetime event    country     user_id   source          topic\n",
       "1785  2018-01-01 23:54:26  read  country_2  2458153046  AdWords         Africa\n",
       "1786  2018-01-01 23:54:39  read  country_6  2458153047   Reddit           Asia\n",
       "1787  2018-01-01 23:54:45  read  country_2  2458153048   Reddit           Asia\n",
       "1788  2018-01-01 23:55:04  read  country_7  2458153049  AdWords         Europe\n",
       "1789  2018-01-01 23:56:42  read  country_4  2458153050  AdWords           Asia\n",
       "1790  2018-01-01 23:57:14  read  country_2  2458153051  AdWords  North America\n",
       "1791  2018-01-01 23:58:33  read  country_8  2458153052      SEO           Asia\n",
       "1792  2018-01-01 23:59:36  read  country_6  2458153053   Reddit           Asia\n",
       "1793  2018-01-01 23:59:36  read  country_7  2458153054  AdWords         Europe\n",
       "1794  2018-01-01 23:59:38  read  country_5  2458153055   Reddit           Asia"
      ],
      "text/html": "<div>\n<style scoped>\n    .dataframe tbody tr th:only-of-type {\n        vertical-align: middle;\n    }\n\n    .dataframe tbody tr th {\n        vertical-align: top;\n    }\n\n    .dataframe thead th {\n        text-align: right;\n    }\n</style>\n<table border=\"1\" class=\"dataframe\">\n  <thead>\n    <tr style=\"text-align: right;\">\n      <th></th>\n      <th>my_datetime</th>\n      <th>event</th>\n      <th>country</th>\n      <th>user_id</th>\n      <th>source</th>\n      <th>topic</th>\n    </tr>\n  </thead>\n  <tbody>\n    <tr>\n      <th>1785</th>\n      <td>2018-01-01 23:54:26</td>\n      <td>read</td>\n      <td>country_2</td>\n      <td>2458153046</td>\n      <td>AdWords</td>\n      <td>Africa</td>\n    </tr>\n    <tr>\n      <th>1786</th>\n      <td>2018-01-01 23:54:39</td>\n      <td>read</td>\n      <td>country_6</td>\n      <td>2458153047</td>\n      <td>Reddit</td>\n      <td>Asia</td>\n    </tr>\n    <tr>\n      <th>1787</th>\n      <td>2018-01-01 23:54:45</td>\n      <td>read</td>\n      <td>country_2</td>\n      <td>2458153048</td>\n      <td>Reddit</td>\n      <td>Asia</td>\n    </tr>\n    <tr>\n      <th>1788</th>\n      <td>2018-01-01 23:55:04</td>\n      <td>read</td>\n      <td>country_7</td>\n      <td>2458153049</td>\n      <td>AdWords</td>\n      <td>Europe</td>\n    </tr>\n    <tr>\n      <th>1789</th>\n      <td>2018-01-01 23:56:42</td>\n      <td>read</td>\n      <td>country_4</td>\n      <td>2458153050</td>\n      <td>AdWords</td>\n      <td>Asia</td>\n    </tr>\n    <tr>\n      <th>1790</th>\n      <td>2018-01-01 23:57:14</td>\n      <td>read</td>\n      <td>country_2</td>\n      <td>2458153051</td>\n      <td>AdWords</td>\n      <td>North America</td>\n    </tr>\n    <tr>\n      <th>1791</th>\n      <td>2018-01-01 23:58:33</td>\n      <td>read</td>\n      <td>country_8</td>\n      <td>2458153052</td>\n      <td>SEO</td>\n      <td>Asia</td>\n    </tr>\n    <tr>\n      <th>1792</th>\n      <td>2018-01-01 23:59:36</td>\n      <td>read</td>\n      <td>country_6</td>\n      <td>2458153053</td>\n      <td>Reddit</td>\n      <td>Asia</td>\n    </tr>\n    <tr>\n      <th>1793</th>\n      <td>2018-01-01 23:59:36</td>\n      <td>read</td>\n      <td>country_7</td>\n      <td>2458153054</td>\n      <td>AdWords</td>\n      <td>Europe</td>\n    </tr>\n    <tr>\n      <th>1794</th>\n      <td>2018-01-01 23:59:38</td>\n      <td>read</td>\n      <td>country_5</td>\n      <td>2458153055</td>\n      <td>Reddit</td>\n      <td>Asia</td>\n    </tr>\n  </tbody>\n</table>\n</div>"
     },
     "metadata": {},
     "execution_count": 45
    }
   ],
   "source": [
    "#Mostrar los ultimos 10 registros\n",
    "articlei.tail(10)"
   ]
  },
  {
   "cell_type": "code",
   "execution_count": 46,
   "metadata": {},
   "outputs": [
    {
     "output_type": "execute_result",
     "data": {
      "text/plain": [
       "              my_datetime event    country     user_id   source          topic\n",
       "1792  2018-01-01 23:59:36  read  country_6  2458153053   Reddit           Asia\n",
       "293   2018-01-01 03:56:11  read  country_2  2458151554   Reddit           Asia\n",
       "1401  2018-01-01 19:03:06  read  country_2  2458152662   Reddit           Asia\n",
       "1472  2018-01-01 20:05:28  read  country_6  2458152733   Reddit  South America\n",
       "481   2018-01-01 06:25:51  read  country_7  2458151742  AdWords           Asia"
      ],
      "text/html": "<div>\n<style scoped>\n    .dataframe tbody tr th:only-of-type {\n        vertical-align: middle;\n    }\n\n    .dataframe tbody tr th {\n        vertical-align: top;\n    }\n\n    .dataframe thead th {\n        text-align: right;\n    }\n</style>\n<table border=\"1\" class=\"dataframe\">\n  <thead>\n    <tr style=\"text-align: right;\">\n      <th></th>\n      <th>my_datetime</th>\n      <th>event</th>\n      <th>country</th>\n      <th>user_id</th>\n      <th>source</th>\n      <th>topic</th>\n    </tr>\n  </thead>\n  <tbody>\n    <tr>\n      <th>1792</th>\n      <td>2018-01-01 23:59:36</td>\n      <td>read</td>\n      <td>country_6</td>\n      <td>2458153053</td>\n      <td>Reddit</td>\n      <td>Asia</td>\n    </tr>\n    <tr>\n      <th>293</th>\n      <td>2018-01-01 03:56:11</td>\n      <td>read</td>\n      <td>country_2</td>\n      <td>2458151554</td>\n      <td>Reddit</td>\n      <td>Asia</td>\n    </tr>\n    <tr>\n      <th>1401</th>\n      <td>2018-01-01 19:03:06</td>\n      <td>read</td>\n      <td>country_2</td>\n      <td>2458152662</td>\n      <td>Reddit</td>\n      <td>Asia</td>\n    </tr>\n    <tr>\n      <th>1472</th>\n      <td>2018-01-01 20:05:28</td>\n      <td>read</td>\n      <td>country_6</td>\n      <td>2458152733</td>\n      <td>Reddit</td>\n      <td>South America</td>\n    </tr>\n    <tr>\n      <th>481</th>\n      <td>2018-01-01 06:25:51</td>\n      <td>read</td>\n      <td>country_7</td>\n      <td>2458151742</td>\n      <td>AdWords</td>\n      <td>Asia</td>\n    </tr>\n  </tbody>\n</table>\n</div>"
     },
     "metadata": {},
     "execution_count": 46
    }
   ],
   "source": [
    "# Mostrar 5 registros aleatorios a modo de muestra\n",
    "articlei.sample(n=5, random_state=1)"
   ]
  },
  {
   "cell_type": "code",
   "execution_count": 47,
   "metadata": {},
   "outputs": [
    {
     "output_type": "execute_result",
     "data": {
      "text/plain": [
       "        country     user_id\n",
       "0     country_7  2458151261\n",
       "1     country_7  2458151262\n",
       "2     country_7  2458151263\n",
       "3     country_7  2458151264\n",
       "4     country_8  2458151265\n",
       "...         ...         ...\n",
       "1790  country_2  2458153051\n",
       "1791  country_8  2458153052\n",
       "1792  country_6  2458153053\n",
       "1793  country_7  2458153054\n",
       "1794  country_5  2458153055\n",
       "\n",
       "[1795 rows x 2 columns]"
      ],
      "text/html": "<div>\n<style scoped>\n    .dataframe tbody tr th:only-of-type {\n        vertical-align: middle;\n    }\n\n    .dataframe tbody tr th {\n        vertical-align: top;\n    }\n\n    .dataframe thead th {\n        text-align: right;\n    }\n</style>\n<table border=\"1\" class=\"dataframe\">\n  <thead>\n    <tr style=\"text-align: right;\">\n      <th></th>\n      <th>country</th>\n      <th>user_id</th>\n    </tr>\n  </thead>\n  <tbody>\n    <tr>\n      <th>0</th>\n      <td>country_7</td>\n      <td>2458151261</td>\n    </tr>\n    <tr>\n      <th>1</th>\n      <td>country_7</td>\n      <td>2458151262</td>\n    </tr>\n    <tr>\n      <th>2</th>\n      <td>country_7</td>\n      <td>2458151263</td>\n    </tr>\n    <tr>\n      <th>3</th>\n      <td>country_7</td>\n      <td>2458151264</td>\n    </tr>\n    <tr>\n      <th>4</th>\n      <td>country_8</td>\n      <td>2458151265</td>\n    </tr>\n    <tr>\n      <th>...</th>\n      <td>...</td>\n      <td>...</td>\n    </tr>\n    <tr>\n      <th>1790</th>\n      <td>country_2</td>\n      <td>2458153051</td>\n    </tr>\n    <tr>\n      <th>1791</th>\n      <td>country_8</td>\n      <td>2458153052</td>\n    </tr>\n    <tr>\n      <th>1792</th>\n      <td>country_6</td>\n      <td>2458153053</td>\n    </tr>\n    <tr>\n      <th>1793</th>\n      <td>country_7</td>\n      <td>2458153054</td>\n    </tr>\n    <tr>\n      <th>1794</th>\n      <td>country_5</td>\n      <td>2458153055</td>\n    </tr>\n  </tbody>\n</table>\n<p>1795 rows × 2 columns</p>\n</div>"
     },
     "metadata": {},
     "execution_count": 47
    }
   ],
   "source": [
    "#Mostrar únicamente dos columnas del dataframe (en este orden): __country__ y __user_id__\n",
    "\n",
    "articlei[['country','user_id']]"
   ]
  },
  {
   "cell_type": "code",
   "execution_count": 48,
   "metadata": {},
   "outputs": [
    {
     "output_type": "execute_result",
     "data": {
      "text/plain": [
       "            my_datetime event    country     user_id source          topic\n",
       "0   2018-01-01 00:01:01  read  country_7  2458151261    SEO  North America\n",
       "1   2018-01-01 00:03:20  read  country_7  2458151262    SEO  South America\n",
       "11  2018-01-01 00:08:57  read  country_7  2458151272    SEO      Australia\n",
       "15  2018-01-01 00:11:22  read  country_7  2458151276    SEO  North America\n",
       "16  2018-01-01 00:13:05  read  country_8  2458151277    SEO  North America"
      ],
      "text/html": "<div>\n<style scoped>\n    .dataframe tbody tr th:only-of-type {\n        vertical-align: middle;\n    }\n\n    .dataframe tbody tr th {\n        vertical-align: top;\n    }\n\n    .dataframe thead th {\n        text-align: right;\n    }\n</style>\n<table border=\"1\" class=\"dataframe\">\n  <thead>\n    <tr style=\"text-align: right;\">\n      <th></th>\n      <th>my_datetime</th>\n      <th>event</th>\n      <th>country</th>\n      <th>user_id</th>\n      <th>source</th>\n      <th>topic</th>\n    </tr>\n  </thead>\n  <tbody>\n    <tr>\n      <th>0</th>\n      <td>2018-01-01 00:01:01</td>\n      <td>read</td>\n      <td>country_7</td>\n      <td>2458151261</td>\n      <td>SEO</td>\n      <td>North America</td>\n    </tr>\n    <tr>\n      <th>1</th>\n      <td>2018-01-01 00:03:20</td>\n      <td>read</td>\n      <td>country_7</td>\n      <td>2458151262</td>\n      <td>SEO</td>\n      <td>South America</td>\n    </tr>\n    <tr>\n      <th>11</th>\n      <td>2018-01-01 00:08:57</td>\n      <td>read</td>\n      <td>country_7</td>\n      <td>2458151272</td>\n      <td>SEO</td>\n      <td>Australia</td>\n    </tr>\n    <tr>\n      <th>15</th>\n      <td>2018-01-01 00:11:22</td>\n      <td>read</td>\n      <td>country_7</td>\n      <td>2458151276</td>\n      <td>SEO</td>\n      <td>North America</td>\n    </tr>\n    <tr>\n      <th>16</th>\n      <td>2018-01-01 00:13:05</td>\n      <td>read</td>\n      <td>country_8</td>\n      <td>2458151277</td>\n      <td>SEO</td>\n      <td>North America</td>\n    </tr>\n  </tbody>\n</table>\n</div>"
     },
     "metadata": {},
     "execution_count": 48
    }
   ],
   "source": [
    "# Mostrar los datos del dataframe cuyo __source = SEO__\n",
    "\n",
    "articlei[articlei[\"source\"]==\"SEO\"].head()"
   ]
  },
  {
   "cell_type": "code",
   "execution_count": 50,
   "metadata": {},
   "outputs": [
    {
     "output_type": "execute_result",
     "data": {
      "text/plain": [
       "       user_id   topic    country\n",
       "6   2458151267  Europe  country_2\n",
       "13  2458151274  Europe  country_2\n",
       "17  2458151278    Asia  country_2\n",
       "19  2458151280    Asia  country_2\n",
       "20  2458151281    Asia  country_2"
      ],
      "text/html": "<div>\n<style scoped>\n    .dataframe tbody tr th:only-of-type {\n        vertical-align: middle;\n    }\n\n    .dataframe tbody tr th {\n        vertical-align: top;\n    }\n\n    .dataframe thead th {\n        text-align: right;\n    }\n</style>\n<table border=\"1\" class=\"dataframe\">\n  <thead>\n    <tr style=\"text-align: right;\">\n      <th></th>\n      <th>user_id</th>\n      <th>topic</th>\n      <th>country</th>\n    </tr>\n  </thead>\n  <tbody>\n    <tr>\n      <th>6</th>\n      <td>2458151267</td>\n      <td>Europe</td>\n      <td>country_2</td>\n    </tr>\n    <tr>\n      <th>13</th>\n      <td>2458151274</td>\n      <td>Europe</td>\n      <td>country_2</td>\n    </tr>\n    <tr>\n      <th>17</th>\n      <td>2458151278</td>\n      <td>Asia</td>\n      <td>country_2</td>\n    </tr>\n    <tr>\n      <th>19</th>\n      <td>2458151280</td>\n      <td>Asia</td>\n      <td>country_2</td>\n    </tr>\n    <tr>\n      <th>20</th>\n      <td>2458151281</td>\n      <td>Asia</td>\n      <td>country_2</td>\n    </tr>\n  </tbody>\n</table>\n</div>"
     },
     "metadata": {},
     "execution_count": 50
    }
   ],
   "source": [
    " #Mostrar los 5 primeros registros (únicamente con las columnas user_id, topic y country) que coincidan con que __country = country_2__\n",
    "\n",
    "\n",
    "articlei[['user_id','topic','country']][articlei['country']==\"country_2\"].head(5)\n"
   ]
  },
  {
   "cell_type": "code",
   "execution_count": 58,
   "metadata": {},
   "outputs": [
    {
     "output_type": "execute_result",
     "data": {
      "text/plain": [
       "source\n",
       "AdWords    500\n",
       "Reddit     949\n",
       "SEO        346\n",
       "Name: source, dtype: int64"
      ]
     },
     "metadata": {},
     "execution_count": 58
    }
   ],
   "source": [
    "# Agrupar por source y realizar un conteo de elementos\n",
    "\n",
    "articlei.groupby(\"source\")[\"source\"].count()"
   ]
  },
  {
   "cell_type": "code",
   "execution_count": 61,
   "metadata": {},
   "outputs": [
    {
     "output_type": "execute_result",
     "data": {
      "text/plain": [
       "         user_id\n",
       "source          \n",
       "AdWords      500\n",
       "Reddit       949\n",
       "SEO          346"
      ],
      "text/html": "<div>\n<style scoped>\n    .dataframe tbody tr th:only-of-type {\n        vertical-align: middle;\n    }\n\n    .dataframe tbody tr th {\n        vertical-align: top;\n    }\n\n    .dataframe thead th {\n        text-align: right;\n    }\n</style>\n<table border=\"1\" class=\"dataframe\">\n  <thead>\n    <tr style=\"text-align: right;\">\n      <th></th>\n      <th>user_id</th>\n    </tr>\n    <tr>\n      <th>source</th>\n      <th></th>\n    </tr>\n  </thead>\n  <tbody>\n    <tr>\n      <th>AdWords</th>\n      <td>500</td>\n    </tr>\n    <tr>\n      <th>Reddit</th>\n      <td>949</td>\n    </tr>\n    <tr>\n      <th>SEO</th>\n      <td>346</td>\n    </tr>\n  </tbody>\n</table>\n</div>"
     },
     "metadata": {},
     "execution_count": 61
    }
   ],
   "source": [
    "# Agrupar por source, filtrar por la columna user_id para que sea la única que aparezca y realizar un conteo de elementos\n",
    "articlei[[\"source\",\"user_id\"]].groupby(\"source\").count()"
   ]
  },
  {
   "cell_type": "code",
   "execution_count": 63,
   "metadata": {},
   "outputs": [
    {
     "output_type": "execute_result",
     "data": {
      "text/plain": [
       "                       my_datetime  event  country  user_id\n",
       "source  topic                                              \n",
       "AdWords Africa                   3      3        3        3\n",
       "        Asia                    31     31       31       31\n",
       "        Australia                6      6        6        6\n",
       "        Europe                  46     46       46       46\n",
       "        North America           11     11       11       11\n",
       "        South America           14     14       14       14\n",
       "Reddit  Africa                  24     24       24       24\n",
       "        Asia                   139    139      139      139\n",
       "        Australia               18     18       18       18\n",
       "        Europe                  29     29       29       29\n",
       "        North America           27     27       27       27\n",
       "        South America           26     26       26       26\n",
       "SEO     Africa                   7      7        7        7\n",
       "        Asia                     9      9        9        9\n",
       "        Australia               10     10       10       10\n",
       "        Europe                   4      4        4        4\n",
       "        North America           42     42       42       42\n",
       "        South America           16     16       16       16"
      ],
      "text/html": "<div>\n<style scoped>\n    .dataframe tbody tr th:only-of-type {\n        vertical-align: middle;\n    }\n\n    .dataframe tbody tr th {\n        vertical-align: top;\n    }\n\n    .dataframe thead th {\n        text-align: right;\n    }\n</style>\n<table border=\"1\" class=\"dataframe\">\n  <thead>\n    <tr style=\"text-align: right;\">\n      <th></th>\n      <th></th>\n      <th>my_datetime</th>\n      <th>event</th>\n      <th>country</th>\n      <th>user_id</th>\n    </tr>\n    <tr>\n      <th>source</th>\n      <th>topic</th>\n      <th></th>\n      <th></th>\n      <th></th>\n      <th></th>\n    </tr>\n  </thead>\n  <tbody>\n    <tr>\n      <th rowspan=\"6\" valign=\"top\">AdWords</th>\n      <th>Africa</th>\n      <td>3</td>\n      <td>3</td>\n      <td>3</td>\n      <td>3</td>\n    </tr>\n    <tr>\n      <th>Asia</th>\n      <td>31</td>\n      <td>31</td>\n      <td>31</td>\n      <td>31</td>\n    </tr>\n    <tr>\n      <th>Australia</th>\n      <td>6</td>\n      <td>6</td>\n      <td>6</td>\n      <td>6</td>\n    </tr>\n    <tr>\n      <th>Europe</th>\n      <td>46</td>\n      <td>46</td>\n      <td>46</td>\n      <td>46</td>\n    </tr>\n    <tr>\n      <th>North America</th>\n      <td>11</td>\n      <td>11</td>\n      <td>11</td>\n      <td>11</td>\n    </tr>\n    <tr>\n      <th>South America</th>\n      <td>14</td>\n      <td>14</td>\n      <td>14</td>\n      <td>14</td>\n    </tr>\n    <tr>\n      <th rowspan=\"6\" valign=\"top\">Reddit</th>\n      <th>Africa</th>\n      <td>24</td>\n      <td>24</td>\n      <td>24</td>\n      <td>24</td>\n    </tr>\n    <tr>\n      <th>Asia</th>\n      <td>139</td>\n      <td>139</td>\n      <td>139</td>\n      <td>139</td>\n    </tr>\n    <tr>\n      <th>Australia</th>\n      <td>18</td>\n      <td>18</td>\n      <td>18</td>\n      <td>18</td>\n    </tr>\n    <tr>\n      <th>Europe</th>\n      <td>29</td>\n      <td>29</td>\n      <td>29</td>\n      <td>29</td>\n    </tr>\n    <tr>\n      <th>North America</th>\n      <td>27</td>\n      <td>27</td>\n      <td>27</td>\n      <td>27</td>\n    </tr>\n    <tr>\n      <th>South America</th>\n      <td>26</td>\n      <td>26</td>\n      <td>26</td>\n      <td>26</td>\n    </tr>\n    <tr>\n      <th rowspan=\"6\" valign=\"top\">SEO</th>\n      <th>Africa</th>\n      <td>7</td>\n      <td>7</td>\n      <td>7</td>\n      <td>7</td>\n    </tr>\n    <tr>\n      <th>Asia</th>\n      <td>9</td>\n      <td>9</td>\n      <td>9</td>\n      <td>9</td>\n    </tr>\n    <tr>\n      <th>Australia</th>\n      <td>10</td>\n      <td>10</td>\n      <td>10</td>\n      <td>10</td>\n    </tr>\n    <tr>\n      <th>Europe</th>\n      <td>4</td>\n      <td>4</td>\n      <td>4</td>\n      <td>4</td>\n    </tr>\n    <tr>\n      <th>North America</th>\n      <td>42</td>\n      <td>42</td>\n      <td>42</td>\n      <td>42</td>\n    </tr>\n    <tr>\n      <th>South America</th>\n      <td>16</td>\n      <td>16</td>\n      <td>16</td>\n      <td>16</td>\n    </tr>\n  </tbody>\n</table>\n</div>"
     },
     "metadata": {},
     "execution_count": 63
    }
   ],
   "source": [
    "# Mostrar los datos del dataframe que coincidan con que __country = country_2__. A este resultado, realizar una __agrupación por source y topic__ (por ambos, y en ese orden) y finalmente un conteo del resultado. A continuación se muestra el resultado que debe aparecer:\n",
    "\n",
    "\n",
    "articlei[articlei[\"country\"]==\"country_2\"].groupby(['source','topic']).count()"
   ]
  },
  {
   "cell_type": "code",
   "execution_count": 64,
   "metadata": {},
   "outputs": [
    {
     "output_type": "execute_result",
     "data": {
      "text/plain": [
       "                       my_datetime  event  country  user_id\n",
       "topic         source                                       \n",
       "Africa        AdWords            3      3        3        3\n",
       "              Reddit            24     24       24       24\n",
       "              SEO                7      7        7        7\n",
       "Asia          AdWords           31     31       31       31\n",
       "              Reddit           139    139      139      139\n",
       "              SEO                9      9        9        9\n",
       "Australia     AdWords            6      6        6        6\n",
       "              Reddit            18     18       18       18\n",
       "              SEO               10     10       10       10\n",
       "Europe        AdWords           46     46       46       46\n",
       "              Reddit            29     29       29       29\n",
       "              SEO                4      4        4        4\n",
       "North America AdWords           11     11       11       11\n",
       "              Reddit            27     27       27       27\n",
       "              SEO               42     42       42       42\n",
       "South America AdWords           14     14       14       14\n",
       "              Reddit            26     26       26       26\n",
       "              SEO               16     16       16       16"
      ],
      "text/html": "<div>\n<style scoped>\n    .dataframe tbody tr th:only-of-type {\n        vertical-align: middle;\n    }\n\n    .dataframe tbody tr th {\n        vertical-align: top;\n    }\n\n    .dataframe thead th {\n        text-align: right;\n    }\n</style>\n<table border=\"1\" class=\"dataframe\">\n  <thead>\n    <tr style=\"text-align: right;\">\n      <th></th>\n      <th></th>\n      <th>my_datetime</th>\n      <th>event</th>\n      <th>country</th>\n      <th>user_id</th>\n    </tr>\n    <tr>\n      <th>topic</th>\n      <th>source</th>\n      <th></th>\n      <th></th>\n      <th></th>\n      <th></th>\n    </tr>\n  </thead>\n  <tbody>\n    <tr>\n      <th rowspan=\"3\" valign=\"top\">Africa</th>\n      <th>AdWords</th>\n      <td>3</td>\n      <td>3</td>\n      <td>3</td>\n      <td>3</td>\n    </tr>\n    <tr>\n      <th>Reddit</th>\n      <td>24</td>\n      <td>24</td>\n      <td>24</td>\n      <td>24</td>\n    </tr>\n    <tr>\n      <th>SEO</th>\n      <td>7</td>\n      <td>7</td>\n      <td>7</td>\n      <td>7</td>\n    </tr>\n    <tr>\n      <th rowspan=\"3\" valign=\"top\">Asia</th>\n      <th>AdWords</th>\n      <td>31</td>\n      <td>31</td>\n      <td>31</td>\n      <td>31</td>\n    </tr>\n    <tr>\n      <th>Reddit</th>\n      <td>139</td>\n      <td>139</td>\n      <td>139</td>\n      <td>139</td>\n    </tr>\n    <tr>\n      <th>SEO</th>\n      <td>9</td>\n      <td>9</td>\n      <td>9</td>\n      <td>9</td>\n    </tr>\n    <tr>\n      <th rowspan=\"3\" valign=\"top\">Australia</th>\n      <th>AdWords</th>\n      <td>6</td>\n      <td>6</td>\n      <td>6</td>\n      <td>6</td>\n    </tr>\n    <tr>\n      <th>Reddit</th>\n      <td>18</td>\n      <td>18</td>\n      <td>18</td>\n      <td>18</td>\n    </tr>\n    <tr>\n      <th>SEO</th>\n      <td>10</td>\n      <td>10</td>\n      <td>10</td>\n      <td>10</td>\n    </tr>\n    <tr>\n      <th rowspan=\"3\" valign=\"top\">Europe</th>\n      <th>AdWords</th>\n      <td>46</td>\n      <td>46</td>\n      <td>46</td>\n      <td>46</td>\n    </tr>\n    <tr>\n      <th>Reddit</th>\n      <td>29</td>\n      <td>29</td>\n      <td>29</td>\n      <td>29</td>\n    </tr>\n    <tr>\n      <th>SEO</th>\n      <td>4</td>\n      <td>4</td>\n      <td>4</td>\n      <td>4</td>\n    </tr>\n    <tr>\n      <th rowspan=\"3\" valign=\"top\">North America</th>\n      <th>AdWords</th>\n      <td>11</td>\n      <td>11</td>\n      <td>11</td>\n      <td>11</td>\n    </tr>\n    <tr>\n      <th>Reddit</th>\n      <td>27</td>\n      <td>27</td>\n      <td>27</td>\n      <td>27</td>\n    </tr>\n    <tr>\n      <th>SEO</th>\n      <td>42</td>\n      <td>42</td>\n      <td>42</td>\n      <td>42</td>\n    </tr>\n    <tr>\n      <th rowspan=\"3\" valign=\"top\">South America</th>\n      <th>AdWords</th>\n      <td>14</td>\n      <td>14</td>\n      <td>14</td>\n      <td>14</td>\n    </tr>\n    <tr>\n      <th>Reddit</th>\n      <td>26</td>\n      <td>26</td>\n      <td>26</td>\n      <td>26</td>\n    </tr>\n    <tr>\n      <th>SEO</th>\n      <td>16</td>\n      <td>16</td>\n      <td>16</td>\n      <td>16</td>\n    </tr>\n  </tbody>\n</table>\n</div>"
     },
     "metadata": {},
     "execution_count": 64
    }
   ],
   "source": [
    "#2* Igual que el anterior pero cambiando el orden de las columnas por las que agrupamos, es decir, en este caso, __agrupar por topic y source__. A continuación se muestra el resultado que debe aparecer:\n",
    "\n",
    "articlei[articlei[\"country\"]==\"country_2\"].groupby(['topic','source']).count()"
   ]
  },
  {
   "cell_type": "code",
   "execution_count": 65,
   "metadata": {},
   "outputs": [
    {
     "output_type": "execute_result",
     "data": {
      "text/plain": [
       "           my_datetime event     user_id  amount\n",
       "0  2018-01-01 04:04:59   buy  2458151555       8\n",
       "1  2018-01-01 09:28:00   buy  2458151933       8\n",
       "2  2018-01-01 13:23:16   buy  2458152245       8"
      ],
      "text/html": "<div>\n<style scoped>\n    .dataframe tbody tr th:only-of-type {\n        vertical-align: middle;\n    }\n\n    .dataframe tbody tr th {\n        vertical-align: top;\n    }\n\n    .dataframe thead th {\n        text-align: right;\n    }\n</style>\n<table border=\"1\" class=\"dataframe\">\n  <thead>\n    <tr style=\"text-align: right;\">\n      <th></th>\n      <th>my_datetime</th>\n      <th>event</th>\n      <th>user_id</th>\n      <th>amount</th>\n    </tr>\n  </thead>\n  <tbody>\n    <tr>\n      <th>0</th>\n      <td>2018-01-01 04:04:59</td>\n      <td>buy</td>\n      <td>2458151555</td>\n      <td>8</td>\n    </tr>\n    <tr>\n      <th>1</th>\n      <td>2018-01-01 09:28:00</td>\n      <td>buy</td>\n      <td>2458151933</td>\n      <td>8</td>\n    </tr>\n    <tr>\n      <th>2</th>\n      <td>2018-01-01 13:23:16</td>\n      <td>buy</td>\n      <td>2458152245</td>\n      <td>8</td>\n    </tr>\n  </tbody>\n</table>\n</div>"
     },
     "metadata": {},
     "execution_count": 65
    }
   ],
   "source": [
    " #Cargar el csv __articulos_comprados.csv__ con los nombres de columna __'my_date_time', 'event', 'user_id', 'amount'__\n",
    "\n",
    "\n",
    "\n",
    "header_list = [\"my_datetime\", \"event\",\"user_id\",\"amount\"]\n",
    "articompr=pd.read_csv(\"articulos_comprados.csv\",names=header_list,sep=';')\n",
    "articompr.head(3)\n",
    "\n",
    "\n",
    "\n"
   ]
  },
  {
   "cell_type": "code",
   "execution_count": null,
   "metadata": {},
   "outputs": [],
   "source": [
    "#__Fusiona los dos dataframes__ en un dataframe final que se llame __fusion__. Esta fusión se debe realizar adecuadamente para que aparezcan en la fusión los registros que aparecen en articulos_leidos.csv pero que no tienen correspondencia en articulos_comprados.csv. Y no deben aparecer los registros que si aparecen en articulos_comprados.csv pero no tienen correspondencia en articulos_leidos.csv"
   ]
  },
  {
   "cell_type": "code",
   "execution_count": 68,
   "metadata": {},
   "outputs": [
    {
     "output_type": "execute_result",
     "data": {
      "text/plain": [
       "         my_datetime_x event_x    country     user_id  source          topic  \\\n",
       "0  2018-01-01 00:13:39    read  country_4  2458151279     SEO  North America   \n",
       "1  2018-01-01 02:55:28    read  country_2  2458151468     SEO           Asia   \n",
       "2  2018-01-01 03:07:05    read  country_5  2458151481     SEO         Europe   \n",
       "3  2018-01-01 03:20:59    read  country_5  2458151500     SEO  North America   \n",
       "4  2018-01-01 03:31:22    read  country_4  2458151525  Reddit           Asia   \n",
       "\n",
       "         my_datetime_y event_y  amount  \n",
       "0  2018-01-05 10:23:05     buy     100  \n",
       "1  2018-01-02 18:09:20     buy      88  \n",
       "2  2018-01-03 01:33:30     buy     200  \n",
       "3  2018-01-04 10:43:38     buy       8  \n",
       "4  2018-01-02 07:57:24     buy      80  "
      ],
      "text/html": "<div>\n<style scoped>\n    .dataframe tbody tr th:only-of-type {\n        vertical-align: middle;\n    }\n\n    .dataframe tbody tr th {\n        vertical-align: top;\n    }\n\n    .dataframe thead th {\n        text-align: right;\n    }\n</style>\n<table border=\"1\" class=\"dataframe\">\n  <thead>\n    <tr style=\"text-align: right;\">\n      <th></th>\n      <th>my_datetime_x</th>\n      <th>event_x</th>\n      <th>country</th>\n      <th>user_id</th>\n      <th>source</th>\n      <th>topic</th>\n      <th>my_datetime_y</th>\n      <th>event_y</th>\n      <th>amount</th>\n    </tr>\n  </thead>\n  <tbody>\n    <tr>\n      <th>0</th>\n      <td>2018-01-01 00:13:39</td>\n      <td>read</td>\n      <td>country_4</td>\n      <td>2458151279</td>\n      <td>SEO</td>\n      <td>North America</td>\n      <td>2018-01-05 10:23:05</td>\n      <td>buy</td>\n      <td>100</td>\n    </tr>\n    <tr>\n      <th>1</th>\n      <td>2018-01-01 02:55:28</td>\n      <td>read</td>\n      <td>country_2</td>\n      <td>2458151468</td>\n      <td>SEO</td>\n      <td>Asia</td>\n      <td>2018-01-02 18:09:20</td>\n      <td>buy</td>\n      <td>88</td>\n    </tr>\n    <tr>\n      <th>2</th>\n      <td>2018-01-01 03:07:05</td>\n      <td>read</td>\n      <td>country_5</td>\n      <td>2458151481</td>\n      <td>SEO</td>\n      <td>Europe</td>\n      <td>2018-01-03 01:33:30</td>\n      <td>buy</td>\n      <td>200</td>\n    </tr>\n    <tr>\n      <th>3</th>\n      <td>2018-01-01 03:20:59</td>\n      <td>read</td>\n      <td>country_5</td>\n      <td>2458151500</td>\n      <td>SEO</td>\n      <td>North America</td>\n      <td>2018-01-04 10:43:38</td>\n      <td>buy</td>\n      <td>8</td>\n    </tr>\n    <tr>\n      <th>4</th>\n      <td>2018-01-01 03:31:22</td>\n      <td>read</td>\n      <td>country_4</td>\n      <td>2458151525</td>\n      <td>Reddit</td>\n      <td>Asia</td>\n      <td>2018-01-02 07:57:24</td>\n      <td>buy</td>\n      <td>80</td>\n    </tr>\n  </tbody>\n</table>\n</div>"
     },
     "metadata": {},
     "execution_count": 68
    }
   ],
   "source": [
    "#Cambiar los __NaN por 0__\n",
    "\n",
    "fusion=pd.merge(articlei, articompr, on=\"user_id\")\n",
    "fusion.head()"
   ]
  },
  {
   "cell_type": "code",
   "execution_count": 77,
   "metadata": {},
   "outputs": [
    {
     "output_type": "execute_result",
     "data": {
      "text/plain": [
       "               user_id  amount\n",
       "country                       \n",
       "country_2   9832607594     296\n",
       "country_4  19665216331    1112\n",
       "country_5  12290759751     324\n",
       "country_7   2458152158     200\n",
       "country_8   4916304985      16"
      ],
      "text/html": "<div>\n<style scoped>\n    .dataframe tbody tr th:only-of-type {\n        vertical-align: middle;\n    }\n\n    .dataframe tbody tr th {\n        vertical-align: top;\n    }\n\n    .dataframe thead th {\n        text-align: right;\n    }\n</style>\n<table border=\"1\" class=\"dataframe\">\n  <thead>\n    <tr style=\"text-align: right;\">\n      <th></th>\n      <th>user_id</th>\n      <th>amount</th>\n    </tr>\n    <tr>\n      <th>country</th>\n      <th></th>\n      <th></th>\n    </tr>\n  </thead>\n  <tbody>\n    <tr>\n      <th>country_2</th>\n      <td>9832607594</td>\n      <td>296</td>\n    </tr>\n    <tr>\n      <th>country_4</th>\n      <td>19665216331</td>\n      <td>1112</td>\n    </tr>\n    <tr>\n      <th>country_5</th>\n      <td>12290759751</td>\n      <td>324</td>\n    </tr>\n    <tr>\n      <th>country_7</th>\n      <td>2458152158</td>\n      <td>200</td>\n    </tr>\n    <tr>\n      <th>country_8</th>\n      <td>4916304985</td>\n      <td>16</td>\n    </tr>\n  </tbody>\n</table>\n</div>"
     },
     "metadata": {},
     "execution_count": 77
    }
   ],
   "source": [
    "#__Agrupar por country__ y realizar el sumatorio\n",
    "fusion.groupby('country').sum()"
   ]
  },
  {
   "cell_type": "code",
   "execution_count": null,
   "metadata": {},
   "outputs": [],
   "source": [
    "# Eliminar la columna user_id para quedarnos únicamente con __amount__\n",
    "fusion.groupby('country')['amount'].sum()"
   ]
  },
  {
   "cell_type": "code",
   "execution_count": 80,
   "metadata": {},
   "outputs": [
    {
     "output_type": "execute_result",
     "data": {
      "text/plain": [
       "               user_id  amount\n",
       "country                       \n",
       "country_4  19665216331    1112\n",
       "country_5  12290759751     324\n",
       "country_2   9832607594     296\n",
       "country_7   2458152158     200\n",
       "country_8   4916304985      16"
      ],
      "text/html": "<div>\n<style scoped>\n    .dataframe tbody tr th:only-of-type {\n        vertical-align: middle;\n    }\n\n    .dataframe tbody tr th {\n        vertical-align: top;\n    }\n\n    .dataframe thead th {\n        text-align: right;\n    }\n</style>\n<table border=\"1\" class=\"dataframe\">\n  <thead>\n    <tr style=\"text-align: right;\">\n      <th></th>\n      <th>user_id</th>\n      <th>amount</th>\n    </tr>\n    <tr>\n      <th>country</th>\n      <th></th>\n      <th></th>\n    </tr>\n  </thead>\n  <tbody>\n    <tr>\n      <th>country_4</th>\n      <td>19665216331</td>\n      <td>1112</td>\n    </tr>\n    <tr>\n      <th>country_5</th>\n      <td>12290759751</td>\n      <td>324</td>\n    </tr>\n    <tr>\n      <th>country_2</th>\n      <td>9832607594</td>\n      <td>296</td>\n    </tr>\n    <tr>\n      <th>country_7</th>\n      <td>2458152158</td>\n      <td>200</td>\n    </tr>\n    <tr>\n      <th>country_8</th>\n      <td>4916304985</td>\n      <td>16</td>\n    </tr>\n  </tbody>\n</table>\n</div>"
     },
     "metadata": {},
     "execution_count": 80
    }
   ],
   "source": [
    "# __Ordenar__ los valores de mayor a menor\n",
    "fusion.groupby('country').sum().sort_values(['amount'], ascending=False)"
   ]
  },
  {
   "cell_type": "code",
   "execution_count": 81,
   "metadata": {},
   "outputs": [
    {
     "output_type": "execute_result",
     "data": {
      "text/plain": [
       "               user_id  amount\n",
       "country                       \n",
       "country_4  19665216331    1112\n",
       "country_5  12290759751     324\n",
       "country_2   9832607594     296"
      ],
      "text/html": "<div>\n<style scoped>\n    .dataframe tbody tr th:only-of-type {\n        vertical-align: middle;\n    }\n\n    .dataframe tbody tr th {\n        vertical-align: top;\n    }\n\n    .dataframe thead th {\n        text-align: right;\n    }\n</style>\n<table border=\"1\" class=\"dataframe\">\n  <thead>\n    <tr style=\"text-align: right;\">\n      <th></th>\n      <th>user_id</th>\n      <th>amount</th>\n    </tr>\n    <tr>\n      <th>country</th>\n      <th></th>\n      <th></th>\n    </tr>\n  </thead>\n  <tbody>\n    <tr>\n      <th>country_4</th>\n      <td>19665216331</td>\n      <td>1112</td>\n    </tr>\n    <tr>\n      <th>country_5</th>\n      <td>12290759751</td>\n      <td>324</td>\n    </tr>\n    <tr>\n      <th>country_2</th>\n      <td>9832607594</td>\n      <td>296</td>\n    </tr>\n  </tbody>\n</table>\n</div>"
     },
     "metadata": {},
     "execution_count": 81
    }
   ],
   "source": [
    "#Mostrar los __3__ primeros registros\n",
    "fusion.groupby('country').sum().sort_values(['amount'], ascending=False).head(3)"
   ]
  }
 ],
 "metadata": {
  "kernelspec": {
   "name": "python394jvsc74a57bd0018df73ee3aff28fe4df1c7118db1967a509574c263c597c07ec386aba453d6e",
   "display_name": "Python 3.9.4 64-bit"
  },
  "language_info": {
   "codemirror_mode": {
    "name": "ipython",
    "version": 3
   },
   "file_extension": ".py",
   "mimetype": "text/x-python",
   "name": "python",
   "nbconvert_exporter": "python",
   "pygments_lexer": "ipython3",
   "version": "3.9.4"
  },
  "toc": {
   "base_numbering": 1,
   "nav_menu": {},
   "number_sections": true,
   "sideBar": true,
   "skip_h1_title": false,
   "title_cell": "Table of Contents",
   "title_sidebar": "Contents",
   "toc_cell": false,
   "toc_position": {},
   "toc_section_display": true,
   "toc_window_display": false
  },
  "varInspector": {
   "cols": {
    "lenName": 16,
    "lenType": 16,
    "lenVar": 40
   },
   "kernels_config": {
    "python": {
     "delete_cmd_postfix": "",
     "delete_cmd_prefix": "del ",
     "library": "var_list.py",
     "varRefreshCmd": "print(var_dic_list())"
    },
    "r": {
     "delete_cmd_postfix": ") ",
     "delete_cmd_prefix": "rm(",
     "library": "var_list.r",
     "varRefreshCmd": "cat(var_dic_list()) "
    }
   },
   "types_to_exclude": [
    "module",
    "function",
    "builtin_function_or_method",
    "instance",
    "_Feature"
   ],
   "window_display": false
  },
  "metadata": {
   "interpreter": {
    "hash": "018df73ee3aff28fe4df1c7118db1967a509574c263c597c07ec386aba453d6e"
   }
  }
 },
 "nbformat": 4,
 "nbformat_minor": 4
}
